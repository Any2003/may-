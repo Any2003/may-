{
 "cells": [
  {
   "cell_type": "code",
   "execution_count": 47,
   "metadata": {},
   "outputs": [],
   "source": [
    "anna = {\n",
    "    \"word\" : \"Econometrics\",\n",
    "    \"sentence\" : \"If the implementation is easy to explain, it may be a good idea.\",\n",
    "    \"big_list\": [\"python\", 3, \"anaconda\", 3.6, \"jupyter\", 10, \"lessons\", \"many\", 99],\n",
    "    \"empty_list\": []\n",
    "}"
   ]
  },
  {
   "cell_type": "markdown",
   "metadata": {},
   "source": [
    "1 and 2 "
   ]
  },
  {
   "cell_type": "code",
   "execution_count": 51,
   "metadata": {},
   "outputs": [],
   "source": [
    "if not anna['word'].isupper():\n",
    "    anna['word'] =\"Applied_\"+ anna['word'].upper() \n"
   ]
  },
  {
   "cell_type": "markdown",
   "metadata": {},
   "source": [
    "3"
   ]
  },
  {
   "cell_type": "code",
   "execution_count": 52,
   "metadata": {},
   "outputs": [],
   "source": [
    "sentences = anna['sentence'].split(\" \")\n",
    "sentences[2] = \"Hellow\"\n",
    "new_sentence = \" \".join(sentences)\n",
    "anna['sentence'] = new_sentence\n"
   ]
  },
  {
   "cell_type": "markdown",
   "metadata": {},
   "source": [
    "4\n"
   ]
  },
  {
   "cell_type": "code",
   "execution_count": 53,
   "metadata": {},
   "outputs": [
    {
     "name": "stdout",
     "output_type": "stream",
     "text": [
      "p\n",
      "a\n",
      "j\n",
      "l\n",
      "m\n"
     ]
    }
   ],
   "source": [
    "for item in anna['big_list']:\n",
    "    if type(item) == str:\n",
    "        print(item[0])"
   ]
  },
  {
   "cell_type": "markdown",
   "metadata": {},
   "source": [
    "5"
   ]
  },
  {
   "cell_type": "code",
   "execution_count": 54,
   "metadata": {},
   "outputs": [
    {
     "name": "stdout",
     "output_type": "stream",
     "text": [
      "112\n",
      "100\n"
     ]
    }
   ],
   "source": [
    "sum = 0\n",
    "for item in anna['big_list']:\n",
    "    if type(item) == int:\n",
    "        sum+= item\n",
    "print(sum)\n",
    "sum1 = 0\n",
    "anna['big_list'].remove(anna['big_list'][-1])\n",
    "anna['big_list'].append(87)\n",
    "for item in anna['big_list']:\n",
    "    if type(item) == int:\n",
    "        sum1+= item\n",
    "print(sum1)"
   ]
  },
  {
   "cell_type": "markdown",
   "metadata": {},
   "source": [
    "6"
   ]
  },
  {
   "cell_type": "code",
   "execution_count": 65,
   "metadata": {},
   "outputs": [
    {
     "name": "stdout",
     "output_type": "stream",
     "text": [
      "['python', 3, 'anaconda', 'anna', 'jupyter', 10, 'lessons', 'many', 99]\n"
     ]
    }
   ],
   "source": [
    "list = [\"python\", 3, \"anaconda\", 3.6, \"jupyter\", 10, \"lessons\", \"many\", 99]\n",
    "list[3]= \"anna\"\n",
    "print (list)\n"
   ]
  },
  {
   "cell_type": "markdown",
   "metadata": {},
   "source": [
    "7"
   ]
  },
  {
   "cell_type": "code",
   "execution_count": 66,
   "metadata": {},
   "outputs": [
    {
     "name": "stdout",
     "output_type": "stream",
     "text": [
      "45 45\n",
      "Applied_APPLIED_APPLIED_ECONOMETRICS\n",
      "If the Hellow is easy to explain, it may be a good idea.\n",
      "['python', 3, 'anaconda', 3.6, 'jupyter', 10, 'lessons', 'many', 87]\n",
      "[]\n"
     ]
    }
   ],
   "source": [
    "my_list = []\n",
    "count_odd = 0\n",
    "count_prime = 0\n",
    "for i in range(10,100):\n",
    "    my_list.append(i)\n",
    "\n",
    "for number in my_list:\n",
    "    if number % 2 == 0:\n",
    "        count_prime +=1\n",
    "    elif number % 2 == 1:\n",
    "        count_odd +=1\n",
    "\n",
    "print(count_odd, count_prime)\n",
    "\n",
    "\n",
    "for key in anna:\n",
    "    print(anna[key])"
   ]
  }
 ],
 "metadata": {
  "interpreter": {
   "hash": "8fac594bfae6525c0c41b4041d2d72effa188cc8ead05f81b1fab2bb098927fb"
  },
  "kernelspec": {
   "display_name": "Python 3.9.7 ('base')",
   "language": "python",
   "name": "python3"
  },
  "language_info": {
   "codemirror_mode": {
    "name": "ipython",
    "version": 3
   },
   "file_extension": ".py",
   "mimetype": "text/x-python",
   "name": "python",
   "nbconvert_exporter": "python",
   "pygments_lexer": "ipython3",
   "version": "3.9.7"
  },
  "orig_nbformat": 4
 },
 "nbformat": 4,
 "nbformat_minor": 2
}
